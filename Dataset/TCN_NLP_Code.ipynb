{
 "cells": [
  {
   "cell_type": "code",
   "execution_count": null,
   "metadata": {
    "id": "Rqh8pIoY8Bxu"
   },
   "outputs": [],
   "source": [
    "import gensim\n",
    "import os\n",
    "import collections\n",
    "import smart_open\n",
    "import random\n",
    "\n",
    "\n",
    "import sys\n",
    "sys.path.insert(0, '../models/')\n",
    "import os\n",
    "os.environ[\"CUDA_DEVICE_ORDER\"]=\"PCI_BUS_ID\"   # see issue #152\n",
    "os.environ[\"CUDA_VISIBLE_DEVICES\"]=\"\"\n",
    "from keras.layers import *\n",
    "from keras import *\n",
    "from keras.models import Model\n",
    "from keras.callbacks import ModelCheckpoint, EarlyStopping\n",
    "from keras.regularizers import l2 \n",
    "import keras\n",
    "import tensorflow as tf\n",
    "#from tensorflow.keras.optimizers import SGD, Adam, RMSprop\n",
    "from keras.callbacks import ModelCheckpoint, EarlyStopping, LearningRateScheduler, CSVLogger\n",
    "from keras.models import model_from_json\n",
    "from keras.models import model_from_yaml\n",
    "from sklearn.model_selection import train_test_split\n",
    "\n",
    "import numpy as np\n",
    "import h5py\n",
    "import scipy.io\n",
    "np.random.seed(1337) # for reproducibility\n",
    "\n",
    "from keras.layers import *\n",
    "from keras import *\n",
    "from keras.models import Model\n",
    "from keras.callbacks import ModelCheckpoint, EarlyStopping\n",
    "from keras.regularizers import l2 \n",
    "import keras\n",
    "from keras.initializers import RandomUniform\n",
    "import keras.backend as K\n",
    "from random import shuffle\n",
    "\n",
    "\n",
    "\n",
    "#from  pyfasta import Fasta\n",
    "import gzip\n",
    "import numpy as np\n",
    "import re\n",
    "import random\n",
    "#from data_gen import  DataGenerator_safe"
   ]
  },
  {
   "cell_type": "code",
   "execution_count": null,
   "metadata": {
    "colab": {
     "base_uri": "https://localhost:8080/"
    },
    "id": "8amd2ecX9iY_",
    "outputId": "9a6de298-b601-4ba8-efb8-856209ff65a2"
   },
   "outputs": [],
   "source": [
    "from google.colab import drive\n",
    "drive.mount('/content/drive')"
   ]
  },
  {
   "cell_type": "code",
   "execution_count": null,
   "metadata": {
    "id": "3ZyJ9PTW8Bx2"
   },
   "outputs": [],
   "source": [
    "model =gensim.models.word2vec.Word2Vec.load('/content/drive/MyDrive/Colab Notebooks/my_word2vec-model-DNA-3mer')"
   ]
  },
  {
   "cell_type": "code",
   "execution_count": null,
   "metadata": {
    "colab": {
     "base_uri": "https://localhost:8080/"
    },
    "id": "rpzBMa0S8Bx3",
    "outputId": "3acfed85-90c4-4eac-adf2-d2d408f691e0"
   },
   "outputs": [],
   "source": [
    "model.corpus_count"
   ]
  },
  {
   "cell_type": "code",
   "execution_count": null,
   "metadata": {
    "id": "fmfiBYHk8Bx4"
   },
   "outputs": [],
   "source": [
    "#model.most_similar('AAC')"
   ]
  },
  {
   "cell_type": "code",
   "execution_count": null,
   "metadata": {
    "id": "y0VnVbKF8Bx4"
   },
   "outputs": [],
   "source": [
    "#model.wv['AAA']"
   ]
  },
  {
   "cell_type": "code",
   "execution_count": null,
   "metadata": {
    "id": "hTOHU5uQ8Bx5"
   },
   "outputs": [],
   "source": [
    "######## Read data ###############################\n",
    "def read_seq_new(seq_file,label):\n",
    "    seq_list = []\n",
    "    seq = ''\n",
    "    with open(seq_file, 'r') as fp:\n",
    "        for line in fp:\n",
    "            if line[0] == '>':\n",
    "                if len(seq):\n",
    "                    seq_list.append(seq)                    \n",
    "                seq = ''\n",
    "            else:\n",
    "                seq = seq + line[:]\n",
    "        \n",
    "        if len(seq):\n",
    "            seq_list.append(seq) \n",
    "    seq_data=[]\n",
    "    all_data=[]\n",
    "    for s in seq_list:\n",
    "        tmp=s[0:81]\n",
    "        seq_data.append(tmp)\n",
    "        all_data.append([label])\n",
    "    return seq_data, all_data\n"
   ]
  },
  {
   "cell_type": "code",
   "execution_count": null,
   "metadata": {
    "id": "wDRX-Gs98Bx6"
   },
   "outputs": [],
   "source": [
    "seq_pos_data, all_data_pos = read_seq_new('/content/drive/MyDrive/Colab Notebooks/Bpromoter.fasta',1.0)\n",
    "seq_neg_data, all_data_neg= read_seq_new('/content/drive/MyDrive/Colab Notebooks/Bnon_promoter.fasta',0.0)\n",
    "\n",
    "seq_pos_data=np.asarray(seq_pos_data)\n",
    "seq_neg_data=np.asarray(seq_neg_data)\n"
   ]
  },
  {
   "cell_type": "code",
   "execution_count": null,
   "metadata": {
    "colab": {
     "base_uri": "https://localhost:8080/"
    },
    "id": "xJcQl7sx8Bx6",
    "outputId": "4b744c88-14a1-479d-9fa4-c18284e8b71f"
   },
   "outputs": [],
   "source": [
    "len(seq_neg_data)"
   ]
  },
  {
   "cell_type": "code",
   "execution_count": null,
   "metadata": {
    "colab": {
     "base_uri": "https://localhost:8080/"
    },
    "id": "F1KTwZPGV0-4",
    "outputId": "a215ccbe-e87d-4acc-ca9d-01034bc8bd0c"
   },
   "outputs": [],
   "source": [
    "len(seq_pos_data)"
   ]
  },
  {
   "cell_type": "code",
   "execution_count": null,
   "metadata": {
    "id": "pET_PrXZ8Bx7"
   },
   "outputs": [],
   "source": [
    "#all_data_pos[0]"
   ]
  },
  {
   "cell_type": "code",
   "execution_count": null,
   "metadata": {
    "id": "LkPtOWhi8Bx7"
   },
   "outputs": [],
   "source": [
    "x_pos = np.zeros((len(seq_pos_data),81,100)) # 41 is lenght of sequence 41-2=39, 100 is set in main file length of sentence\n",
    "for ix, seq in enumerate(seq_pos_data):\n",
    "    for iy in range(78):\n",
    "        vec = model.wv[seq[iy:iy+3]]\n",
    "        x_pos[ix,iy,:]=vec"
   ]
  },
  {
   "cell_type": "code",
   "execution_count": null,
   "metadata": {
    "colab": {
     "base_uri": "https://localhost:8080/"
    },
    "id": "HphiOSJR8Bx8",
    "outputId": "f9b540e8-b24f-434d-b9fc-bb6d869c8e9d"
   },
   "outputs": [],
   "source": [
    "x_pos.shape"
   ]
  },
  {
   "cell_type": "code",
   "execution_count": null,
   "metadata": {
    "id": "XjbiKcdA8Bx9"
   },
   "outputs": [],
   "source": [
    "x_neg = np.zeros((len(seq_neg_data),81,100))\n",
    "for ix, seq in enumerate(seq_neg_data):\n",
    "    for iy in range(78):\n",
    "        vec = model.wv[seq[iy:iy+3]]\n",
    "        x_neg[ix,iy,:]=vec"
   ]
  },
  {
   "cell_type": "code",
   "execution_count": null,
   "metadata": {
    "colab": {
     "base_uri": "https://localhost:8080/"
    },
    "id": "EqFLrPDL8Bx-",
    "outputId": "ebaf04b9-9c02-448c-c161-acc07025a1b1"
   },
   "outputs": [],
   "source": [
    "x_neg.shape"
   ]
  },
  {
   "cell_type": "code",
   "execution_count": null,
   "metadata": {
    "id": "iy1leQu78Bx-"
   },
   "outputs": [],
   "source": [
    "y= len(x_pos)*[1]+len(x_neg)*[0]"
   ]
  },
  {
   "cell_type": "code",
   "execution_count": null,
   "metadata": {
    "colab": {
     "base_uri": "https://localhost:8080/"
    },
    "id": "p930Hwbk8Bx_",
    "outputId": "d97ce2c2-5321-46a2-e3d6-83cc673acd2e"
   },
   "outputs": [],
   "source": [
    "shuffled_indices =np.random.randint(0, len(y),len(y))\n",
    "shuffled_indices"
   ]
  },
  {
   "cell_type": "code",
   "execution_count": null,
   "metadata": {
    "colab": {
     "base_uri": "https://localhost:8080/"
    },
    "id": "DMwYcCrp8Bx_",
    "outputId": "7fddccaf-6b09-4b04-b601-4a988d7664c0"
   },
   "outputs": [],
   "source": [
    "x = np.concatenate((x_pos,x_neg))\n",
    "len(x)"
   ]
  },
  {
   "cell_type": "code",
   "execution_count": null,
   "metadata": {
    "id": "8d1Jyro-8ByA"
   },
   "outputs": [],
   "source": [
    "y=np.asarray(y)"
   ]
  },
  {
   "cell_type": "code",
   "execution_count": null,
   "metadata": {
    "id": "h0WdltRa8ByA"
   },
   "outputs": [],
   "source": [
    "y=y[shuffled_indices]"
   ]
  },
  {
   "cell_type": "code",
   "execution_count": null,
   "metadata": {
    "colab": {
     "base_uri": "https://localhost:8080/"
    },
    "id": "AgclfWmE8ByA",
    "outputId": "4d93bb87-ebc0-4da0-ef36-af1c155d6b53"
   },
   "outputs": [],
   "source": [
    "y"
   ]
  },
  {
   "cell_type": "code",
   "execution_count": null,
   "metadata": {
    "id": "2H-k2ryC8ByB"
   },
   "outputs": [],
   "source": [
    "x=x[shuffled_indices]\n"
   ]
  },
  {
   "cell_type": "code",
   "execution_count": null,
   "metadata": {
    "colab": {
     "base_uri": "https://localhost:8080/"
    },
    "id": "8WgtEFle8ByB",
    "outputId": "18be3637-5adb-444c-fdbe-5586953dedc6"
   },
   "outputs": [],
   "source": [
    "x_train,x_val,y_train,y_val= train_test_split(x,y, test_size=0.2)\n",
    "x_train=np.asarray(x_train,dtype=np.float)\n",
    "x_val=np.asarray(x_val,dtype=np.float)\n",
    "y_train=np.asarray(y_train,dtype=np.float)\n",
    "y_val=np.asarray(y_val,dtype=np.float)"
   ]
  },
  {
   "cell_type": "code",
   "execution_count": null,
   "metadata": {
    "colab": {
     "base_uri": "https://localhost:8080/"
    },
    "id": "D51Xd2GM8ByC",
    "outputId": "7f4e7368-dbd5-41df-fb5d-09381e20ad8b"
   },
   "outputs": [],
   "source": [
    "x_train.shape"
   ]
  },
  {
   "cell_type": "code",
   "execution_count": null,
   "metadata": {
    "colab": {
     "base_uri": "https://localhost:8080/"
    },
    "id": "QjBrpIVR8ByD",
    "outputId": "5e7abddc-47cc-44e8-b8fb-c34cd8255a2e"
   },
   "outputs": [],
   "source": [
    "y_train.shape"
   ]
  },
  {
   "cell_type": "code",
   "execution_count": null,
   "metadata": {
    "id": "0O1H6HKC8ByE"
   },
   "outputs": [],
   "source": [
    "class CustomModelCheckpoint(keras.callbacks.Callback):\n",
    "    def __init__(self, model, path):\n",
    "        self.path = path\n",
    "        self.model_for_saving = model\n",
    "    def on_epoch_end(self, epoch, logs=None):\n",
    "        loss = logs['val_loss']\n",
    "        print(\"\\nSaving model to : {}\".format(self.path.format(epoch=epoch, val_loss=loss)))\n",
    "        self.model_for_saving.save_weights(self.path.format(epoch=epoch, val_loss=loss), overwrite=True)\n",
    "def step_decay(epoch):\n",
    "    lrate=[0.001]*30+[0.0001]*170\n",
    "    print(lrate[epoch])\n",
    "    return lrate[epoch]"
   ]
  },
  {
   "cell_type": "code",
   "execution_count": null,
   "metadata": {
    "id": "hQI-Kx6P8ByF"
   },
   "outputs": [],
   "source": [
    "model_name= 'shahid-word2vector'\n",
    "result_folder= 'results-dataset-1-6mer/'\n",
    "if not os.path.exists(result_folder+model_name):\n",
    "    os.makedirs(result_folder+model_name)\n",
    "\n",
    "model_results_folder=result_folder+model_name+ '/'\n",
    "best_weights = model_results_folder + 'best_weights.h5'\n",
    "last_weights = model_results_folder + 'last_weights.h5'\n",
    "model_arch = model_results_folder + 'model.jsno'\n",
    "history_pth = model_results_folder + 'results.pickle'"
   ]
  },
  {
   "cell_type": "code",
   "execution_count": null,
   "metadata": {
    "colab": {
     "base_uri": "https://localhost:8080/"
    },
    "id": "f6FrmsN-rh7y",
    "outputId": "e8b26ebd-16d2-4622-cbbc-97e7d1f515a7"
   },
   "outputs": [],
   "source": [
    "!pip install keras-tcn\n",
    "from tcn import TCN"
   ]
  },
  {
   "cell_type": "markdown",
   "metadata": {
    "id": "9yUdk0Cdrbl8"
   },
   "source": [
    "TCN Model"
   ]
  },
  {
   "cell_type": "code",
   "execution_count": null,
   "metadata": {
    "colab": {
     "base_uri": "https://localhost:8080/",
     "height": 400
    },
    "id": "RPACPg7u8ByF",
    "outputId": "45dd3a59-aa3b-4861-ff9c-083fba0edb28"
   },
   "outputs": [],
   "source": [
    "inp=Input((81,100))\n",
    "\n",
    "x= TCN(32,13,padding='causal',use_skip_connections=True,dropout_rate=0.2,\n",
    "           return_sequences=False,activation='relu',\n",
    "             kernel_initializer='he_normal',\n",
    "            use_layer_norm=False)(inp)\n",
    "x=Dense(52, activation='relu')(x)\n",
    "\n",
    "x=Dense(1, activation='sigmoid')(x) #output Layer\n",
    "model= Model(inp,x)\n",
    "print (model.summary())\n"
   ]
  },
  {
   "cell_type": "code",
   "execution_count": null,
   "metadata": {
    "id": "FjtMKN7u8ByG"
   },
   "outputs": [],
   "source": [
    "if not os.path.exists(result_folder+model_name):\n",
    "    os.makedirs(result_folder+model_name)\n",
    "\n",
    "model_results_folder=result_folder+model_name+ '/'\n",
    "history_pth = model_results_folder + 'results.pickle'\n",
    "\n",
    "\n",
    "model_json = model.to_json()\n",
    "with open(model_results_folder+\"model.json\", \"w\") as json_file:\n",
    "    json_file.write(model_json)\n",
    "\n",
    "checkpoint = ModelCheckpoint(best_weights, monitor='val_acc', verbose=1, save_best_only=True, mode='max')\n",
    "\n",
    "checkpointsString = model_results_folder + 'weights.{epoch:02d}-{val_loss:.2f}.hdf5'\n",
    "lrate = LearningRateScheduler(step_decay)\n",
    "callbacks = [lrate, CustomModelCheckpoint(model, checkpointsString),checkpoint]\n",
    "\n"
   ]
  },
  {
   "cell_type": "code",
   "execution_count": null,
   "metadata": {
    "colab": {
     "base_uri": "https://localhost:8080/"
    },
    "id": "Kjqs8w3Y8ByH",
    "outputId": "38460941-03a1-4d61-e87c-c2dd69c81584"
   },
   "outputs": [],
   "source": [
    "from tensorflow.keras.optimizers import Adam\n",
    "\n",
    "opt = Adam(lr=0.001, amsgrad=True)\n",
    "model.compile(loss='binary_crossentropy', optimizer=opt, metrics=['accuracy'])\n"
   ]
  },
  {
   "cell_type": "code",
   "execution_count": null,
   "metadata": {
    "colab": {
     "base_uri": "https://localhost:8080/"
    },
    "id": "c16Q002F8ByI",
    "outputId": "40e175b3-d71a-42eb-88e7-f60ce67e1bf7",
    "scrolled": true
   },
   "outputs": [],
   "source": [
    "history = model.fit(x_train,y_train,batch_size=32,epochs=40,shuffle=True, validation_split=0.1,callbacks=callbacks)"
   ]
  },
  {
   "cell_type": "code",
   "execution_count": null,
   "metadata": {
    "id": "l65VP8Kk8ByJ"
   },
   "outputs": [],
   "source": [
    "import pickle\n",
    "with open(history_pth, 'wb') as file_pi:\n",
    "    pickle.dump(history.history, file_pi)\n"
   ]
  },
  {
   "cell_type": "code",
   "execution_count": null,
   "metadata": {
    "id": "F3bFUdE48ByJ"
   },
   "outputs": [],
   "source": [
    "#model.load_weights(best_weights)"
   ]
  },
  {
   "cell_type": "code",
   "execution_count": null,
   "metadata": {
    "colab": {
     "base_uri": "https://localhost:8080/"
    },
    "id": "LISOcUJE8ByJ",
    "outputId": "dcea9440-45a7-493c-d545-5bbea31faf33"
   },
   "outputs": [],
   "source": [
    "y_scores= model.predict(x_val)\n",
    "y_true=y_val"
   ]
  },
  {
   "cell_type": "code",
   "execution_count": null,
   "metadata": {
    "colab": {
     "base_uri": "https://localhost:8080/",
     "height": 1000
    },
    "id": "dEl0vH218ByK",
    "outputId": "59918545-289f-45e2-f9c0-a8a062a6869e"
   },
   "outputs": [],
   "source": [
    "#scikit learn\n",
    "from sklearn.metrics import roc_curve\n",
    "from sklearn.metrics import roc_auc_score\n",
    "from sklearn.metrics import confusion_matrix\n",
    "from sklearn.metrics import precision_recall_curve\n",
    "#from sklearn.metrics import jaccard_similarity_score, matthews_corrcoef\n",
    "from sklearn.metrics import matthews_corrcoef\n",
    "\n",
    "from sklearn.metrics import f1_score\n",
    "from matplotlib import pyplot as plt\n",
    "%matplotlib inline\n",
    "#Area under the ROC curve\n",
    "fpr, tpr, thresholds = roc_curve((y_true), y_scores)\n",
    "AUC_ROC = roc_auc_score(y_true, y_scores)\n",
    "# test_integral = np.trapz(tpr,fpr) #trapz is numpy integration\n",
    "print (\"\\nArea under the ROC curve: \" +str(AUC_ROC))\n",
    "roc_curve =plt.figure()\n",
    "plt.plot(fpr,tpr,'-',label='Area Under the Curve (AUC = %0.4f)' % AUC_ROC)\n",
    "plt.title('ROC curve')\n",
    "plt.xlabel(\"FPR (False Positive Rate)\")\n",
    "plt.ylabel(\"TPR (True Positive Rate)\")\n",
    "plt.legend(loc=\"lower right\")\n",
    "#plt.savefig(path_experiment+\"ROC.png\")\n",
    "plt.savefig('shahid-dataset-1-word2vec-ROC-4mer.png') ####################################################\n",
    "#Precision-recall curve\n",
    "precision, recall, thresholds = precision_recall_curve(y_true, y_scores)\n",
    "precision = np.fliplr([precision])[0]  #so the array is increasing (you won't get negative AUC)\n",
    "recall = np.fliplr([recall])[0]  #so the array is increasing (you won't get negative AUC)\n",
    "AUC_prec_rec = np.trapz(precision,recall)\n",
    "print (\"\\nArea under Precision-Recall curve: \" +str(AUC_prec_rec))\n",
    "prec_rec_curve = plt.figure()\n",
    "plt.plot(recall,precision,'-',label='Area Under the Curve (AUC = %0.4f)' % AUC_prec_rec)\n",
    "plt.title('Precision - Recall curve')\n",
    "plt.xlabel(\"Recall\")\n",
    "plt.ylabel(\"Precision\")\n",
    "plt.legend(loc=\"lower right\")\n",
    "#plt.savefig(path_experiment+\"Precision_recall.png\")\n",
    "\n",
    "#Confusion matrix\n",
    "threshold_confusion = 0.5\n",
    "print (\"\\nConfusion matrix:  Custom threshold (for positive) of \" +str(threshold_confusion))\n",
    "y_pred = np.empty((y_scores.shape[0]))\n",
    "for i in range(y_scores.shape[0]):\n",
    "    if y_scores[i]>=threshold_confusion:\n",
    "        y_pred[i]=1\n",
    "    else:\n",
    "        y_pred[i]=0\n",
    "confusion = confusion_matrix(y_true, y_pred)\n",
    "print (confusion)\n",
    "accuracy = 0\n",
    "if float(np.sum(confusion))!=0:\n",
    "    accuracy = float(confusion[0,0]+confusion[1,1])/float(np.sum(confusion))\n",
    "print (\"Global Accuracy: \" +str(accuracy))\n",
    "specificity = 0\n",
    "if float(confusion[0,0]+confusion[0,1])!=0:\n",
    "    specificity = float(confusion[0,0])/float(confusion[0,0]+confusion[0,1])\n",
    "print (\"Specificity: \" +str(specificity))\n",
    "sensitivity = 0\n",
    "if float(confusion[1,1]+confusion[1,0])!=0:\n",
    "    sensitivity = float(confusion[1,1])/float(confusion[1,1]+confusion[1,0])\n",
    "print (\"Sensitivity: \" +str(sensitivity))\n",
    "precision = 0\n",
    "if float(confusion[1,1]+confusion[0,1])!=0:\n",
    "    precision = float(confusion[1,1])/float(confusion[1,1]+confusion[0,1])\n",
    "print (\"Precision: \" +str(precision))\n",
    "\n",
    "#Jaccard similarity index\n",
    "#jaccard_index = jaccard_similarity_score(y_true, y_pred, normalize=True)\n",
    "#print (\"\\nJaccard similarity score: \" +str(jaccard_index))\n",
    "\n",
    "#F1 score\n",
    "F1_score = f1_score(y_true, y_pred, labels=None, average='binary', sample_weight=None)\n",
    "print (\"\\nF1 score (F-measure): \" +str(F1_score))\n",
    "\n",
    "mcc= matthews_corrcoef(y_true, y_pred)\n",
    "print ('MCC:', mcc)\n",
    "\n"
   ]
  },
  {
   "cell_type": "code",
   "execution_count": null,
   "metadata": {
    "id": "dmUYHOPL8ByL"
   },
   "outputs": [],
   "source": [
    "def plot_confusion_matrix(cm, classes,\n",
    "                              normalize=True,\n",
    "                              title='Confusion matrix',\n",
    "                              cmap=plt.cm.Blues):\n",
    "        \"\"\"\n",
    "        This function prints and plots the confusion matrix.\n",
    "        Normalization can be applied by setting `normalize=True`.\n",
    "        \"\"\"\n",
    "        if normalize:\n",
    "            cm = cm.astype('float') / cm.sum(axis=1)[:, np.newaxis]\n",
    "            print(\"Normalized confusion matrix\")\n",
    "        else:\n",
    "            print('Confusion matrix, without normalization')\n",
    "\n",
    "        print(cm)\n",
    "\n",
    "        plt.imshow(cm, interpolation='nearest', cmap=cmap)\n",
    "        #plt.title(title)\n",
    "        plt.colorbar()\n",
    "        tick_marks = np.arange(len(classes))\n",
    "        plt.xticks(tick_marks, classes, rotation=45)\n",
    "        plt.yticks(tick_marks, classes)\n",
    "\n",
    "        fmt = '.2f' if normalize else 'd'\n",
    "        thresh = cm.max() / 2.\n",
    "        for i, j in itertools.product(range(cm.shape[0]), range(cm.shape[1])):\n",
    "            plt.text(j, i, format(cm[i, j], fmt),\n",
    "                     horizontalalignment=\"center\",\n",
    "                     color=\"white\" if cm[i, j] > thresh else \"black\")\n",
    "\n",
    "        plt.ylabel('True label')\n",
    "        plt.xlabel('Predicted label')\n",
    "        plt.tight_layout()"
   ]
  },
  {
   "cell_type": "code",
   "execution_count": null,
   "metadata": {
    "id": "vjWPdLmP8ByM"
   },
   "outputs": [],
   "source": [
    "import itertools"
   ]
  },
  {
   "cell_type": "code",
   "execution_count": null,
   "metadata": {
    "colab": {
     "base_uri": "https://localhost:8080/",
     "height": 538
    },
    "id": "UVgJXLxB8ByM",
    "outputId": "a303271b-9b38-4753-b93b-ab69d5ed5d81"
   },
   "outputs": [],
   "source": [
    "plot_confusion_matrix(confusion,classes=['F','T'])\n",
    "plt.savefig('Shahid-dataset-1-confusionMatrix-4mer.jpg')"
   ]
  }
 ],
 "metadata": {
  "colab": {
   "provenance": []
  },
  "kernelspec": {
   "display_name": "Python 3 (ipykernel)",
   "language": "python",
   "name": "python3"
  },
  "language_info": {
   "codemirror_mode": {
    "name": "ipython",
    "version": 3
   },
   "file_extension": ".py",
   "mimetype": "text/x-python",
   "name": "python",
   "nbconvert_exporter": "python",
   "pygments_lexer": "ipython3",
   "version": "3.7.0"
  }
 },
 "nbformat": 4,
 "nbformat_minor": 1
}
